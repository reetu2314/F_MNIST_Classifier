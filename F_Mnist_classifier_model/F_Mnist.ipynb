{
  "nbformat": 4,
  "nbformat_minor": 0,
  "metadata": {
    "colab": {
      "name": "F_Mnist.ipynb",
      "provenance": []
    },
    "kernelspec": {
      "name": "python3",
      "display_name": "Python 3"
    },
    "language_info": {
      "name": "python"
    },
    "accelerator": "GPU"
  },
  "cells": [
    {
      "cell_type": "code",
      "metadata": {
        "id": "MJbkV-3mIJUm"
      },
      "source": [
        "# import all the lib\n",
        "import tensorflow\n",
        "import matplotlib.pyplot as plt\n",
        "from matplotlib import pyplot\n",
        "\n",
        "from tensorflow.keras.layers import Conv2D , MaxPool2D , Flatten , Dense , Dropout\n",
        "from tensorflow.keras.models import Sequential\n",
        "from tensorflow.keras.datasets import fashion_mnist"
      ],
      "execution_count": 51,
      "outputs": []
    },
    {
      "cell_type": "code",
      "metadata": {
        "id": "G18xrKDYIlnr"
      },
      "source": [
        "# loading the dataset\n",
        "(X_train , y_train) , (X_test , y_test ) = fashion_mnist.load_data()"
      ],
      "execution_count": 52,
      "outputs": []
    },
    {
      "cell_type": "code",
      "metadata": {
        "colab": {
          "base_uri": "https://localhost:8080/"
        },
        "id": "eI4mcjVjIlk0",
        "outputId": "9af91168-7140-4f93-f06c-81681d70cdf9"
      },
      "source": [
        "print(\"X_train shape\", X_train.shape)\n",
        "print(\"y_train shape\", y_train.shape)\n",
        "print(\"X_test shape\", X_test.shape)\n",
        "print(\"y_test shape\", y_test.shape)"
      ],
      "execution_count": 53,
      "outputs": [
        {
          "output_type": "stream",
          "text": [
            "X_train shape (60000, 28, 28)\n",
            "y_train shape (60000,)\n",
            "X_test shape (10000, 28, 28)\n",
            "y_test shape (10000,)\n"
          ],
          "name": "stdout"
        }
      ]
    },
    {
      "cell_type": "markdown",
      "metadata": {
        "id": "WqF-pif0I_p9"
      },
      "source": [
        "1. In above output 60000 data for training and 10000 for testing\n",
        "2. 28 rown and 28 columns\n",
        "3. Total 70000 images\n"
      ]
    },
    {
      "cell_type": "code",
      "metadata": {
        "colab": {
          "base_uri": "https://localhost:8080/"
        },
        "id": "JyTocQ8PIlhd",
        "outputId": "b65cb02e-0223-4a39-a13d-8d8ca925726f"
      },
      "source": [
        "X_train[0]  #1st image\n",
        "\n",
        "# output -->>images in numbers 0 to 255\n",
        "# 0 --> white image and nearby 255 -->>black image so from 0 to 255 images color intensity will be increase from grey to black \n",
        "# Means we have the dataset of grey scale i.e black n white images"
      ],
      "execution_count": 54,
      "outputs": [
        {
          "output_type": "execute_result",
          "data": {
            "text/plain": [
              "array([[  0,   0,   0,   0,   0,   0,   0,   0,   0,   0,   0,   0,   0,\n",
              "          0,   0,   0,   0,   0,   0,   0,   0,   0,   0,   0,   0,   0,\n",
              "          0,   0],\n",
              "       [  0,   0,   0,   0,   0,   0,   0,   0,   0,   0,   0,   0,   0,\n",
              "          0,   0,   0,   0,   0,   0,   0,   0,   0,   0,   0,   0,   0,\n",
              "          0,   0],\n",
              "       [  0,   0,   0,   0,   0,   0,   0,   0,   0,   0,   0,   0,   0,\n",
              "          0,   0,   0,   0,   0,   0,   0,   0,   0,   0,   0,   0,   0,\n",
              "          0,   0],\n",
              "       [  0,   0,   0,   0,   0,   0,   0,   0,   0,   0,   0,   0,   1,\n",
              "          0,   0,  13,  73,   0,   0,   1,   4,   0,   0,   0,   0,   1,\n",
              "          1,   0],\n",
              "       [  0,   0,   0,   0,   0,   0,   0,   0,   0,   0,   0,   0,   3,\n",
              "          0,  36, 136, 127,  62,  54,   0,   0,   0,   1,   3,   4,   0,\n",
              "          0,   3],\n",
              "       [  0,   0,   0,   0,   0,   0,   0,   0,   0,   0,   0,   0,   6,\n",
              "          0, 102, 204, 176, 134, 144, 123,  23,   0,   0,   0,   0,  12,\n",
              "         10,   0],\n",
              "       [  0,   0,   0,   0,   0,   0,   0,   0,   0,   0,   0,   0,   0,\n",
              "          0, 155, 236, 207, 178, 107, 156, 161, 109,  64,  23,  77, 130,\n",
              "         72,  15],\n",
              "       [  0,   0,   0,   0,   0,   0,   0,   0,   0,   0,   0,   1,   0,\n",
              "         69, 207, 223, 218, 216, 216, 163, 127, 121, 122, 146, 141,  88,\n",
              "        172,  66],\n",
              "       [  0,   0,   0,   0,   0,   0,   0,   0,   0,   1,   1,   1,   0,\n",
              "        200, 232, 232, 233, 229, 223, 223, 215, 213, 164, 127, 123, 196,\n",
              "        229,   0],\n",
              "       [  0,   0,   0,   0,   0,   0,   0,   0,   0,   0,   0,   0,   0,\n",
              "        183, 225, 216, 223, 228, 235, 227, 224, 222, 224, 221, 223, 245,\n",
              "        173,   0],\n",
              "       [  0,   0,   0,   0,   0,   0,   0,   0,   0,   0,   0,   0,   0,\n",
              "        193, 228, 218, 213, 198, 180, 212, 210, 211, 213, 223, 220, 243,\n",
              "        202,   0],\n",
              "       [  0,   0,   0,   0,   0,   0,   0,   0,   0,   1,   3,   0,  12,\n",
              "        219, 220, 212, 218, 192, 169, 227, 208, 218, 224, 212, 226, 197,\n",
              "        209,  52],\n",
              "       [  0,   0,   0,   0,   0,   0,   0,   0,   0,   0,   6,   0,  99,\n",
              "        244, 222, 220, 218, 203, 198, 221, 215, 213, 222, 220, 245, 119,\n",
              "        167,  56],\n",
              "       [  0,   0,   0,   0,   0,   0,   0,   0,   0,   4,   0,   0,  55,\n",
              "        236, 228, 230, 228, 240, 232, 213, 218, 223, 234, 217, 217, 209,\n",
              "         92,   0],\n",
              "       [  0,   0,   1,   4,   6,   7,   2,   0,   0,   0,   0,   0, 237,\n",
              "        226, 217, 223, 222, 219, 222, 221, 216, 223, 229, 215, 218, 255,\n",
              "         77,   0],\n",
              "       [  0,   3,   0,   0,   0,   0,   0,   0,   0,  62, 145, 204, 228,\n",
              "        207, 213, 221, 218, 208, 211, 218, 224, 223, 219, 215, 224, 244,\n",
              "        159,   0],\n",
              "       [  0,   0,   0,   0,  18,  44,  82, 107, 189, 228, 220, 222, 217,\n",
              "        226, 200, 205, 211, 230, 224, 234, 176, 188, 250, 248, 233, 238,\n",
              "        215,   0],\n",
              "       [  0,  57, 187, 208, 224, 221, 224, 208, 204, 214, 208, 209, 200,\n",
              "        159, 245, 193, 206, 223, 255, 255, 221, 234, 221, 211, 220, 232,\n",
              "        246,   0],\n",
              "       [  3, 202, 228, 224, 221, 211, 211, 214, 205, 205, 205, 220, 240,\n",
              "         80, 150, 255, 229, 221, 188, 154, 191, 210, 204, 209, 222, 228,\n",
              "        225,   0],\n",
              "       [ 98, 233, 198, 210, 222, 229, 229, 234, 249, 220, 194, 215, 217,\n",
              "        241,  65,  73, 106, 117, 168, 219, 221, 215, 217, 223, 223, 224,\n",
              "        229,  29],\n",
              "       [ 75, 204, 212, 204, 193, 205, 211, 225, 216, 185, 197, 206, 198,\n",
              "        213, 240, 195, 227, 245, 239, 223, 218, 212, 209, 222, 220, 221,\n",
              "        230,  67],\n",
              "       [ 48, 203, 183, 194, 213, 197, 185, 190, 194, 192, 202, 214, 219,\n",
              "        221, 220, 236, 225, 216, 199, 206, 186, 181, 177, 172, 181, 205,\n",
              "        206, 115],\n",
              "       [  0, 122, 219, 193, 179, 171, 183, 196, 204, 210, 213, 207, 211,\n",
              "        210, 200, 196, 194, 191, 195, 191, 198, 192, 176, 156, 167, 177,\n",
              "        210,  92],\n",
              "       [  0,   0,  74, 189, 212, 191, 175, 172, 175, 181, 185, 188, 189,\n",
              "        188, 193, 198, 204, 209, 210, 210, 211, 188, 188, 194, 192, 216,\n",
              "        170,   0],\n",
              "       [  2,   0,   0,   0,  66, 200, 222, 237, 239, 242, 246, 243, 244,\n",
              "        221, 220, 193, 191, 179, 182, 182, 181, 176, 166, 168,  99,  58,\n",
              "          0,   0],\n",
              "       [  0,   0,   0,   0,   0,   0,   0,  40,  61,  44,  72,  41,  35,\n",
              "          0,   0,   0,   0,   0,   0,   0,   0,   0,   0,   0,   0,   0,\n",
              "          0,   0],\n",
              "       [  0,   0,   0,   0,   0,   0,   0,   0,   0,   0,   0,   0,   0,\n",
              "          0,   0,   0,   0,   0,   0,   0,   0,   0,   0,   0,   0,   0,\n",
              "          0,   0],\n",
              "       [  0,   0,   0,   0,   0,   0,   0,   0,   0,   0,   0,   0,   0,\n",
              "          0,   0,   0,   0,   0,   0,   0,   0,   0,   0,   0,   0,   0,\n",
              "          0,   0]], dtype=uint8)"
            ]
          },
          "metadata": {},
          "execution_count": 54
        }
      ]
    },
    {
      "cell_type": "code",
      "metadata": {
        "colab": {
          "base_uri": "https://localhost:8080/"
        },
        "id": "9vX2R3MJIlfG",
        "outputId": "f41ff190-0ac8-43e5-bc06-9385556e70e3"
      },
      "source": [
        "# see labels or classes\n",
        "classes = ['T-shirt/top' , 'Trouser' , 'Pullover', 'Dress' , 'Coat' , 'Sandal' ,'Shirt' , 'Sneaker' , 'Bag' , 'Ankle boot']\n",
        "y_train[0]"
      ],
      "execution_count": 55,
      "outputs": [
        {
          "output_type": "execute_result",
          "data": {
            "text/plain": [
              "9"
            ]
          },
          "metadata": {},
          "execution_count": 55
        }
      ]
    },
    {
      "cell_type": "code",
      "metadata": {
        "id": "k3_OgrmtIlbs"
      },
      "source": [
        "0\tT-shirt/top\n",
        "1\tTrouser\n",
        "2\tPullover\n",
        "3\tDress\n",
        "4\tCoat\n",
        "5\tSandal\n",
        "6\tShirt\n",
        "7\tSneaker\n",
        "8\tBag\n",
        "9\tAnkle boot\n"
      ],
      "execution_count": 8,
      "outputs": []
    },
    {
      "cell_type": "code",
      "metadata": {
        "colab": {
          "base_uri": "https://localhost:8080/",
          "height": 282
        },
        "id": "hKM4cxe0IlWH",
        "outputId": "4a9b45e5-68b3-42af-a8cc-f4c44de0f38d"
      },
      "source": [
        "# visualisating the image data\n",
        "\n",
        "plt.imshow(X_train[10])                                        # image converted into pixels from numbers and image is not clear bcos its resolution is 28 * 28 pixels\n",
        "# classes[y_train[10][0]]"
      ],
      "execution_count": 56,
      "outputs": [
        {
          "output_type": "execute_result",
          "data": {
            "text/plain": [
              "<matplotlib.image.AxesImage at 0x7f7915653410>"
            ]
          },
          "metadata": {},
          "execution_count": 56
        },
        {
          "output_type": "display_data",
          "data": {
            "image/png": "[encoded data removed]",
            "text/plain": [
              "<Figure size 432x288 with 1 Axes>"
            ]
          },
          "metadata": {
            "needs_background": "light"
          }
        }
      ]
    },
    {
      "cell_type": "code",
      "metadata": {
        "colab": {
          "base_uri": "https://localhost:8080/",
          "height": 919
        },
        "id": "ux3rTKSQIlTZ",
        "outputId": "d77a06e0-c9b4-4a86-a89f-768c6a7ae451"
      },
      "source": [
        "#  to see few images\n",
        "\n",
        "plt.figure(figsize=(16,16))\n",
        "for i in range(25):\n",
        "  plt.subplot(5,5,i+1)\n",
        "  plt.imshow(X_train[i])\n",
        "  plt.axis('off')\n",
        "  plt.title(classes[y_train[i]] + '=' + str(y_train[i]) , fontsize = 15)"
      ],
      "execution_count": 57,
      "outputs": [
        {
          "output_type": "display_data",
          "data": {
            "image/png": "[encoded data removed]",
            "text/plain": [
              "<Figure size 1152x1152 with 25 Axes>"
            ]
          },
          "metadata": {
            "needs_background": "light"
          }
        }
      ]
    },
    {
      "cell_type": "code",
      "metadata": {
        "id": "cGKNpBmIdRQO"
      },
      "source": [
        "# reshape dataset to have a single channel\n",
        "\n",
        "X_train = X_train.reshape((X_train.shape[0], 28, 28, 1))\n",
        "X_test = X_test.reshape((X_test.shape[0], 28, 28, 1))"
      ],
      "execution_count": 58,
      "outputs": []
    },
    {
      "cell_type": "code",
      "metadata": {
        "id": "fq2dZsuYIlPc"
      },
      "source": [
        "# Feature scaling\n",
        "# nomralise the image --->>range 0-255 ->>converting the images into 0 to 1\n",
        "\n",
        "X_train = X_train/255 \n",
        "X_test = X_test/255"
      ],
      "execution_count": 59,
      "outputs": []
    },
    {
      "cell_type": "code",
      "metadata": {
        "colab": {
          "base_uri": "https://localhost:8080/"
        },
        "id": "0AzLYP1nIlN8",
        "outputId": "88ae6c40-2627-42b7-e91d-b2a47075ce87"
      },
      "source": [
        "# See the normalized data (in form of 0 to 1)\n",
        "\n",
        "X_train[0]\n",
        "\n",
        "\n",
        "\n",
        "# means our dat has been scaled now in range from 0 to 1"
      ],
      "execution_count": 60,
      "outputs": [
        {
          "output_type": "execute_result",
          "data": {
            "text/plain": [
              "array([[[0.        ],\n",
              "        [0.        ],\n",
              "        [0.        ],\n",
              "        [0.        ],\n",
              "        [0.        ],\n",
              "        [0.        ],\n",
              "        [0.        ],\n",
              "        [0.        ],\n",
              "        [0.        ],\n",
              "        [0.        ],\n",
              "        [0.        ],\n",
              "        [0.        ],\n",
              "        [0.        ],\n",
              "        [0.        ],\n",
              "        [0.        ],\n",
              "        [0.        ],\n",
              "        [0.        ],\n",
              "        [0.        ],\n",
              "        [0.        ],\n",
              "        [0.        ],\n",
              "        [0.        ],\n",
              "        [0.        ],\n",
              "        [0.        ],\n",
              "        [0.        ],\n",
              "        [0.        ],\n",
              "        [0.        ],\n",
              "        [0.        ],\n",
              "        [0.        ]],\n",
              "\n",
              "       [[0.        ],\n",
              "        [0.        ],\n",
              "        [0.        ],\n",
              "        [0.        ],\n",
              "        [0.        ],\n",
              "        [0.        ],\n",
              "        [0.        ],\n",
              "        [0.        ],\n",
              "        [0.        ],\n",
              "        [0.        ],\n",
              "        [0.        ],\n",
              "        [0.        ],\n",
              "        [0.        ],\n",
              "        [0.        ],\n",
              "        [0.        ],\n",
              "        [0.        ],\n",
              "        [0.        ],\n",
              "        [0.        ],\n",
              "        [0.        ],\n",
              "        [0.        ],\n",
              "        [0.        ],\n",
              "        [0.        ],\n",
              "        [0.        ],\n",
              "        [0.        ],\n",
              "        [0.        ],\n",
              "        [0.        ],\n",
              "        [0.        ],\n",
              "        [0.        ]],\n",
              "\n",
              "       [[0.        ],\n",
              "        [0.        ],\n",
              "        [0.        ],\n",
              "        [0.        ],\n",
              "        [0.        ],\n",
              "        [0.        ],\n",
              "        [0.        ],\n",
              "        [0.        ],\n",
              "        [0.        ],\n",
              "        [0.        ],\n",
              "        [0.        ],\n",
              "        [0.        ],\n",
              "        [0.        ],\n",
              "        [0.        ],\n",
              "        [0.        ],\n",
              "        [0.        ],\n",
              "        [0.        ],\n",
              "        [0.        ],\n",
              "        [0.        ],\n",
              "        [0.        ],\n",
              "        [0.        ],\n",
              "        [0.        ],\n",
              "        [0.        ],\n",
              "        [0.        ],\n",
              "        [0.        ],\n",
              "        [0.        ],\n",
              "        [0.        ],\n",
              "        [0.        ]],\n",
              "\n",
              "       [[0.        ],\n",
              "        [0.        ],\n",
              "        [0.        ],\n",
              "        [0.        ],\n",
              "        [0.        ],\n",
              "        [0.        ],\n",
              "        [0.        ],\n",
              "        [0.        ],\n",
              "        [0.        ],\n",
              "        [0.        ],\n",
              "        [0.        ],\n",
              "        [0.        ],\n",
              "        [0.00392157],\n",
              "        [0.        ],\n",
              "        [0.        ],\n",
              "        [0.05098039],\n",
              "        [0.28627451],\n",
              "        [0.        ],\n",
              "        [0.        ],\n",
              "        [0.00392157],\n",
              "        [0.01568627],\n",
              "        [0.        ],\n",
              "        [0.        ],\n",
              "        [0.        ],\n",
              "        [0.        ],\n",
              "        [0.00392157],\n",
              "        [0.00392157],\n",
              "        [0.        ]],\n",
              "\n",
              "       [[0.        ],\n",
              "        [0.        ],\n",
              "        [0.        ],\n",
              "        [0.        ],\n",
              "        [0.        ],\n",
              "        [0.        ],\n",
              "        [0.        ],\n",
              "        [0.        ],\n",
              "        [0.        ],\n",
              "        [0.        ],\n",
              "        [0.        ],\n",
              "        [0.        ],\n",
              "        [0.01176471],\n",
              "        [0.        ],\n",
              "        [0.14117647],\n",
              "        [0.53333333],\n",
              "        [0.49803922],\n",
              "        [0.24313725],\n",
              "        [0.21176471],\n",
              "        [0.        ],\n",
              "        [0.        ],\n",
              "        [0.        ],\n",
              "        [0.00392157],\n",
              "        [0.01176471],\n",
              "        [0.01568627],\n",
              "        [0.        ],\n",
              "        [0.        ],\n",
              "        [0.01176471]],\n",
              "\n",
              "       [[0.        ],\n",
              "        [0.        ],\n",
              "        [0.        ],\n",
              "        [0.        ],\n",
              "        [0.        ],\n",
              "        [0.        ],\n",
              "        [0.        ],\n",
              "        [0.        ],\n",
              "        [0.        ],\n",
              "        [0.        ],\n",
              "        [0.        ],\n",
              "        [0.        ],\n",
              "        [0.02352941],\n",
              "        [0.        ],\n",
              "        [0.4       ],\n",
              "        [0.8       ],\n",
              "        [0.69019608],\n",
              "        [0.5254902 ],\n",
              "        [0.56470588],\n",
              "        [0.48235294],\n",
              "        [0.09019608],\n",
              "        [0.        ],\n",
              "        [0.        ],\n",
              "        [0.        ],\n",
              "        [0.        ],\n",
              "        [0.04705882],\n",
              "        [0.03921569],\n",
              "        [0.        ]],\n",
              "\n",
              "       [[0.        ],\n",
              "        [0.        ],\n",
              "        [0.        ],\n",
              "        [0.        ],\n",
              "        [0.        ],\n",
              "        [0.        ],\n",
              "        [0.        ],\n",
              "        [0.        ],\n",
              "        [0.        ],\n",
              "        [0.        ],\n",
              "        [0.        ],\n",
              "        [0.        ],\n",
              "        [0.        ],\n",
              "        [0.        ],\n",
              "        [0.60784314],\n",
              "        [0.9254902 ],\n",
              "        [0.81176471],\n",
              "        [0.69803922],\n",
              "        [0.41960784],\n",
              "        [0.61176471],\n",
              "        [0.63137255],\n",
              "        [0.42745098],\n",
              "        [0.25098039],\n",
              "        [0.09019608],\n",
              "        [0.30196078],\n",
              "        [0.50980392],\n",
              "        [0.28235294],\n",
              "        [0.05882353]],\n",
              "\n",
              "       [[0.        ],\n",
              "        [0.        ],\n",
              "        [0.        ],\n",
              "        [0.        ],\n",
              "        [0.        ],\n",
              "        [0.        ],\n",
              "        [0.        ],\n",
              "        [0.        ],\n",
              "        [0.        ],\n",
              "        [0.        ],\n",
              "        [0.        ],\n",
              "        [0.00392157],\n",
              "        [0.        ],\n",
              "        [0.27058824],\n",
              "        [0.81176471],\n",
              "        [0.8745098 ],\n",
              "        [0.85490196],\n",
              "        [0.84705882],\n",
              "        [0.84705882],\n",
              "        [0.63921569],\n",
              "        [0.49803922],\n",
              "        [0.4745098 ],\n",
              "        [0.47843137],\n",
              "        [0.57254902],\n",
              "        [0.55294118],\n",
              "        [0.34509804],\n",
              "        [0.6745098 ],\n",
              "        [0.25882353]],\n",
              "\n",
              "       [[0.        ],\n",
              "        [0.        ],\n",
              "        [0.        ],\n",
              "        [0.        ],\n",
              "        [0.        ],\n",
              "        [0.        ],\n",
              "        [0.        ],\n",
              "        [0.        ],\n",
              "        [0.        ],\n",
              "        [0.00392157],\n",
              "        [0.00392157],\n",
              "        [0.00392157],\n",
              "        [0.        ],\n",
              "        [0.78431373],\n",
              "        [0.90980392],\n",
              "        [0.90980392],\n",
              "        [0.91372549],\n",
              "        [0.89803922],\n",
              "        [0.8745098 ],\n",
              "        [0.8745098 ],\n",
              "        [0.84313725],\n",
              "        [0.83529412],\n",
              "        [0.64313725],\n",
              "        [0.49803922],\n",
              "        [0.48235294],\n",
              "        [0.76862745],\n",
              "        [0.89803922],\n",
              "        [0.        ]],\n",
              "\n",
              "       [[0.        ],\n",
              "        [0.        ],\n",
              "        [0.        ],\n",
              "        [0.        ],\n",
              "        [0.        ],\n",
              "        [0.        ],\n",
              "        [0.        ],\n",
              "        [0.        ],\n",
              "        [0.        ],\n",
              "        [0.        ],\n",
              "        [0.        ],\n",
              "        [0.        ],\n",
              "        [0.        ],\n",
              "        [0.71764706],\n",
              "        [0.88235294],\n",
              "        [0.84705882],\n",
              "        [0.8745098 ],\n",
              "        [0.89411765],\n",
              "        [0.92156863],\n",
              "        [0.89019608],\n",
              "        [0.87843137],\n",
              "        [0.87058824],\n",
              "        [0.87843137],\n",
              "        [0.86666667],\n",
              "        [0.8745098 ],\n",
              "        [0.96078431],\n",
              "        [0.67843137],\n",
              "        [0.        ]],\n",
              "\n",
              "       [[0.        ],\n",
              "        [0.        ],\n",
              "        [0.        ],\n",
              "        [0.        ],\n",
              "        [0.        ],\n",
              "        [0.        ],\n",
              "        [0.        ],\n",
              "        [0.        ],\n",
              "        [0.        ],\n",
              "        [0.        ],\n",
              "        [0.        ],\n",
              "        [0.        ],\n",
              "        [0.        ],\n",
              "        [0.75686275],\n",
              "        [0.89411765],\n",
              "        [0.85490196],\n",
              "        [0.83529412],\n",
              "        [0.77647059],\n",
              "        [0.70588235],\n",
              "        [0.83137255],\n",
              "        [0.82352941],\n",
              "        [0.82745098],\n",
              "        [0.83529412],\n",
              "        [0.8745098 ],\n",
              "        [0.8627451 ],\n",
              "        [0.95294118],\n",
              "        [0.79215686],\n",
              "        [0.        ]],\n",
              "\n",
              "       [[0.        ],\n",
              "        [0.        ],\n",
              "        [0.        ],\n",
              "        [0.        ],\n",
              "        [0.        ],\n",
              "        [0.        ],\n",
              "        [0.        ],\n",
              "        [0.        ],\n",
              "        [0.        ],\n",
              "        [0.00392157],\n",
              "        [0.01176471],\n",
              "        [0.        ],\n",
              "        [0.04705882],\n",
              "        [0.85882353],\n",
              "        [0.8627451 ],\n",
              "        [0.83137255],\n",
              "        [0.85490196],\n",
              "        [0.75294118],\n",
              "        [0.6627451 ],\n",
              "        [0.89019608],\n",
              "        [0.81568627],\n",
              "        [0.85490196],\n",
              "        [0.87843137],\n",
              "        [0.83137255],\n",
              "        [0.88627451],\n",
              "        [0.77254902],\n",
              "        [0.81960784],\n",
              "        [0.20392157]],\n",
              "\n",
              "       [[0.        ],\n",
              "        [0.        ],\n",
              "        [0.        ],\n",
              "        [0.        ],\n",
              "        [0.        ],\n",
              "        [0.        ],\n",
              "        [0.        ],\n",
              "        [0.        ],\n",
              "        [0.        ],\n",
              "        [0.        ],\n",
              "        [0.02352941],\n",
              "        [0.        ],\n",
              "        [0.38823529],\n",
              "        [0.95686275],\n",
              "        [0.87058824],\n",
              "        [0.8627451 ],\n",
              "        [0.85490196],\n",
              "        [0.79607843],\n",
              "        [0.77647059],\n",
              "        [0.86666667],\n",
              "        [0.84313725],\n",
              "        [0.83529412],\n",
              "        [0.87058824],\n",
              "        [0.8627451 ],\n",
              "        [0.96078431],\n",
              "        [0.46666667],\n",
              "        [0.65490196],\n",
              "        [0.21960784]],\n",
              "\n",
              "       [[0.        ],\n",
              "        [0.        ],\n",
              "        [0.        ],\n",
              "        [0.        ],\n",
              "        [0.        ],\n",
              "        [0.        ],\n",
              "        [0.        ],\n",
              "        [0.        ],\n",
              "        [0.        ],\n",
              "        [0.01568627],\n",
              "        [0.        ],\n",
              "        [0.        ],\n",
              "        [0.21568627],\n",
              "        [0.9254902 ],\n",
              "        [0.89411765],\n",
              "        [0.90196078],\n",
              "        [0.89411765],\n",
              "        [0.94117647],\n",
              "        [0.90980392],\n",
              "        [0.83529412],\n",
              "        [0.85490196],\n",
              "        [0.8745098 ],\n",
              "        [0.91764706],\n",
              "        [0.85098039],\n",
              "        [0.85098039],\n",
              "        [0.81960784],\n",
              "        [0.36078431],\n",
              "        [0.        ]],\n",
              "\n",
              "       [[0.        ],\n",
              "        [0.        ],\n",
              "        [0.00392157],\n",
              "        [0.01568627],\n",
              "        [0.02352941],\n",
              "        [0.02745098],\n",
              "        [0.00784314],\n",
              "        [0.        ],\n",
              "        [0.        ],\n",
              "        [0.        ],\n",
              "        [0.        ],\n",
              "        [0.        ],\n",
              "        [0.92941176],\n",
              "        [0.88627451],\n",
              "        [0.85098039],\n",
              "        [0.8745098 ],\n",
              "        [0.87058824],\n",
              "        [0.85882353],\n",
              "        [0.87058824],\n",
              "        [0.86666667],\n",
              "        [0.84705882],\n",
              "        [0.8745098 ],\n",
              "        [0.89803922],\n",
              "        [0.84313725],\n",
              "        [0.85490196],\n",
              "        [1.        ],\n",
              "        [0.30196078],\n",
              "        [0.        ]],\n",
              "\n",
              "       [[0.        ],\n",
              "        [0.01176471],\n",
              "        [0.        ],\n",
              "        [0.        ],\n",
              "        [0.        ],\n",
              "        [0.        ],\n",
              "        [0.        ],\n",
              "        [0.        ],\n",
              "        [0.        ],\n",
              "        [0.24313725],\n",
              "        [0.56862745],\n",
              "        [0.8       ],\n",
              "        [0.89411765],\n",
              "        [0.81176471],\n",
              "        [0.83529412],\n",
              "        [0.86666667],\n",
              "        [0.85490196],\n",
              "        [0.81568627],\n",
              "        [0.82745098],\n",
              "        [0.85490196],\n",
              "        [0.87843137],\n",
              "        [0.8745098 ],\n",
              "        [0.85882353],\n",
              "        [0.84313725],\n",
              "        [0.87843137],\n",
              "        [0.95686275],\n",
              "        [0.62352941],\n",
              "        [0.        ]],\n",
              "\n",
              "       [[0.        ],\n",
              "        [0.        ],\n",
              "        [0.        ],\n",
              "        [0.        ],\n",
              "        [0.07058824],\n",
              "        [0.17254902],\n",
              "        [0.32156863],\n",
              "        [0.41960784],\n",
              "        [0.74117647],\n",
              "        [0.89411765],\n",
              "        [0.8627451 ],\n",
              "        [0.87058824],\n",
              "        [0.85098039],\n",
              "        [0.88627451],\n",
              "        [0.78431373],\n",
              "        [0.80392157],\n",
              "        [0.82745098],\n",
              "        [0.90196078],\n",
              "        [0.87843137],\n",
              "        [0.91764706],\n",
              "        [0.69019608],\n",
              "        [0.7372549 ],\n",
              "        [0.98039216],\n",
              "        [0.97254902],\n",
              "        [0.91372549],\n",
              "        [0.93333333],\n",
              "        [0.84313725],\n",
              "        [0.        ]],\n",
              "\n",
              "       [[0.        ],\n",
              "        [0.22352941],\n",
              "        [0.73333333],\n",
              "        [0.81568627],\n",
              "        [0.87843137],\n",
              "        [0.86666667],\n",
              "        [0.87843137],\n",
              "        [0.81568627],\n",
              "        [0.8       ],\n",
              "        [0.83921569],\n",
              "        [0.81568627],\n",
              "        [0.81960784],\n",
              "        [0.78431373],\n",
              "        [0.62352941],\n",
              "        [0.96078431],\n",
              "        [0.75686275],\n",
              "        [0.80784314],\n",
              "        [0.8745098 ],\n",
              "        [1.        ],\n",
              "        [1.        ],\n",
              "        [0.86666667],\n",
              "        [0.91764706],\n",
              "        [0.86666667],\n",
              "        [0.82745098],\n",
              "        [0.8627451 ],\n",
              "        [0.90980392],\n",
              "        [0.96470588],\n",
              "        [0.        ]],\n",
              "\n",
              "       [[0.01176471],\n",
              "        [0.79215686],\n",
              "        [0.89411765],\n",
              "        [0.87843137],\n",
              "        [0.86666667],\n",
              "        [0.82745098],\n",
              "        [0.82745098],\n",
              "        [0.83921569],\n",
              "        [0.80392157],\n",
              "        [0.80392157],\n",
              "        [0.80392157],\n",
              "        [0.8627451 ],\n",
              "        [0.94117647],\n",
              "        [0.31372549],\n",
              "        [0.58823529],\n",
              "        [1.        ],\n",
              "        [0.89803922],\n",
              "        [0.86666667],\n",
              "        [0.7372549 ],\n",
              "        [0.60392157],\n",
              "        [0.74901961],\n",
              "        [0.82352941],\n",
              "        [0.8       ],\n",
              "        [0.81960784],\n",
              "        [0.87058824],\n",
              "        [0.89411765],\n",
              "        [0.88235294],\n",
              "        [0.        ]],\n",
              "\n",
              "       [[0.38431373],\n",
              "        [0.91372549],\n",
              "        [0.77647059],\n",
              "        [0.82352941],\n",
              "        [0.87058824],\n",
              "        [0.89803922],\n",
              "        [0.89803922],\n",
              "        [0.91764706],\n",
              "        [0.97647059],\n",
              "        [0.8627451 ],\n",
              "        [0.76078431],\n",
              "        [0.84313725],\n",
              "        [0.85098039],\n",
              "        [0.94509804],\n",
              "        [0.25490196],\n",
              "        [0.28627451],\n",
              "        [0.41568627],\n",
              "        [0.45882353],\n",
              "        [0.65882353],\n",
              "        [0.85882353],\n",
              "        [0.86666667],\n",
              "        [0.84313725],\n",
              "        [0.85098039],\n",
              "        [0.8745098 ],\n",
              "        [0.8745098 ],\n",
              "        [0.87843137],\n",
              "        [0.89803922],\n",
              "        [0.11372549]],\n",
              "\n",
              "       [[0.29411765],\n",
              "        [0.8       ],\n",
              "        [0.83137255],\n",
              "        [0.8       ],\n",
              "        [0.75686275],\n",
              "        [0.80392157],\n",
              "        [0.82745098],\n",
              "        [0.88235294],\n",
              "        [0.84705882],\n",
              "        [0.7254902 ],\n",
              "        [0.77254902],\n",
              "        [0.80784314],\n",
              "        [0.77647059],\n",
              "        [0.83529412],\n",
              "        [0.94117647],\n",
              "        [0.76470588],\n",
              "        [0.89019608],\n",
              "        [0.96078431],\n",
              "        [0.9372549 ],\n",
              "        [0.8745098 ],\n",
              "        [0.85490196],\n",
              "        [0.83137255],\n",
              "        [0.81960784],\n",
              "        [0.87058824],\n",
              "        [0.8627451 ],\n",
              "        [0.86666667],\n",
              "        [0.90196078],\n",
              "        [0.2627451 ]],\n",
              "\n",
              "       [[0.18823529],\n",
              "        [0.79607843],\n",
              "        [0.71764706],\n",
              "        [0.76078431],\n",
              "        [0.83529412],\n",
              "        [0.77254902],\n",
              "        [0.7254902 ],\n",
              "        [0.74509804],\n",
              "        [0.76078431],\n",
              "        [0.75294118],\n",
              "        [0.79215686],\n",
              "        [0.83921569],\n",
              "        [0.85882353],\n",
              "        [0.86666667],\n",
              "        [0.8627451 ],\n",
              "        [0.9254902 ],\n",
              "        [0.88235294],\n",
              "        [0.84705882],\n",
              "        [0.78039216],\n",
              "        [0.80784314],\n",
              "        [0.72941176],\n",
              "        [0.70980392],\n",
              "        [0.69411765],\n",
              "        [0.6745098 ],\n",
              "        [0.70980392],\n",
              "        [0.80392157],\n",
              "        [0.80784314],\n",
              "        [0.45098039]],\n",
              "\n",
              "       [[0.        ],\n",
              "        [0.47843137],\n",
              "        [0.85882353],\n",
              "        [0.75686275],\n",
              "        [0.70196078],\n",
              "        [0.67058824],\n",
              "        [0.71764706],\n",
              "        [0.76862745],\n",
              "        [0.8       ],\n",
              "        [0.82352941],\n",
              "        [0.83529412],\n",
              "        [0.81176471],\n",
              "        [0.82745098],\n",
              "        [0.82352941],\n",
              "        [0.78431373],\n",
              "        [0.76862745],\n",
              "        [0.76078431],\n",
              "        [0.74901961],\n",
              "        [0.76470588],\n",
              "        [0.74901961],\n",
              "        [0.77647059],\n",
              "        [0.75294118],\n",
              "        [0.69019608],\n",
              "        [0.61176471],\n",
              "        [0.65490196],\n",
              "        [0.69411765],\n",
              "        [0.82352941],\n",
              "        [0.36078431]],\n",
              "\n",
              "       [[0.        ],\n",
              "        [0.        ],\n",
              "        [0.29019608],\n",
              "        [0.74117647],\n",
              "        [0.83137255],\n",
              "        [0.74901961],\n",
              "        [0.68627451],\n",
              "        [0.6745098 ],\n",
              "        [0.68627451],\n",
              "        [0.70980392],\n",
              "        [0.7254902 ],\n",
              "        [0.7372549 ],\n",
              "        [0.74117647],\n",
              "        [0.7372549 ],\n",
              "        [0.75686275],\n",
              "        [0.77647059],\n",
              "        [0.8       ],\n",
              "        [0.81960784],\n",
              "        [0.82352941],\n",
              "        [0.82352941],\n",
              "        [0.82745098],\n",
              "        [0.7372549 ],\n",
              "        [0.7372549 ],\n",
              "        [0.76078431],\n",
              "        [0.75294118],\n",
              "        [0.84705882],\n",
              "        [0.66666667],\n",
              "        [0.        ]],\n",
              "\n",
              "       [[0.00784314],\n",
              "        [0.        ],\n",
              "        [0.        ],\n",
              "        [0.        ],\n",
              "        [0.25882353],\n",
              "        [0.78431373],\n",
              "        [0.87058824],\n",
              "        [0.92941176],\n",
              "        [0.9372549 ],\n",
              "        [0.94901961],\n",
              "        [0.96470588],\n",
              "        [0.95294118],\n",
              "        [0.95686275],\n",
              "        [0.86666667],\n",
              "        [0.8627451 ],\n",
              "        [0.75686275],\n",
              "        [0.74901961],\n",
              "        [0.70196078],\n",
              "        [0.71372549],\n",
              "        [0.71372549],\n",
              "        [0.70980392],\n",
              "        [0.69019608],\n",
              "        [0.65098039],\n",
              "        [0.65882353],\n",
              "        [0.38823529],\n",
              "        [0.22745098],\n",
              "        [0.        ],\n",
              "        [0.        ]],\n",
              "\n",
              "       [[0.        ],\n",
              "        [0.        ],\n",
              "        [0.        ],\n",
              "        [0.        ],\n",
              "        [0.        ],\n",
              "        [0.        ],\n",
              "        [0.        ],\n",
              "        [0.15686275],\n",
              "        [0.23921569],\n",
              "        [0.17254902],\n",
              "        [0.28235294],\n",
              "        [0.16078431],\n",
              "        [0.1372549 ],\n",
              "        [0.        ],\n",
              "        [0.        ],\n",
              "        [0.        ],\n",
              "        [0.        ],\n",
              "        [0.        ],\n",
              "        [0.        ],\n",
              "        [0.        ],\n",
              "        [0.        ],\n",
              "        [0.        ],\n",
              "        [0.        ],\n",
              "        [0.        ],\n",
              "        [0.        ],\n",
              "        [0.        ],\n",
              "        [0.        ],\n",
              "        [0.        ]],\n",
              "\n",
              "       [[0.        ],\n",
              "        [0.        ],\n",
              "        [0.        ],\n",
              "        [0.        ],\n",
              "        [0.        ],\n",
              "        [0.        ],\n",
              "        [0.        ],\n",
              "        [0.        ],\n",
              "        [0.        ],\n",
              "        [0.        ],\n",
              "        [0.        ],\n",
              "        [0.        ],\n",
              "        [0.        ],\n",
              "        [0.        ],\n",
              "        [0.        ],\n",
              "        [0.        ],\n",
              "        [0.        ],\n",
              "        [0.        ],\n",
              "        [0.        ],\n",
              "        [0.        ],\n",
              "        [0.        ],\n",
              "        [0.        ],\n",
              "        [0.        ],\n",
              "        [0.        ],\n",
              "        [0.        ],\n",
              "        [0.        ],\n",
              "        [0.        ],\n",
              "        [0.        ]],\n",
              "\n",
              "       [[0.        ],\n",
              "        [0.        ],\n",
              "        [0.        ],\n",
              "        [0.        ],\n",
              "        [0.        ],\n",
              "        [0.        ],\n",
              "        [0.        ],\n",
              "        [0.        ],\n",
              "        [0.        ],\n",
              "        [0.        ],\n",
              "        [0.        ],\n",
              "        [0.        ],\n",
              "        [0.        ],\n",
              "        [0.        ],\n",
              "        [0.        ],\n",
              "        [0.        ],\n",
              "        [0.        ],\n",
              "        [0.        ],\n",
              "        [0.        ],\n",
              "        [0.        ],\n",
              "        [0.        ],\n",
              "        [0.        ],\n",
              "        [0.        ],\n",
              "        [0.        ],\n",
              "        [0.        ],\n",
              "        [0.        ],\n",
              "        [0.        ],\n",
              "        [0.        ]]])"
            ]
          },
          "metadata": {},
          "execution_count": 60
        }
      ]
    },
    {
      "cell_type": "code",
      "metadata": {
        "id": "Fzf3oopqcjQR"
      },
      "source": [
        "# X_train=X_train.reshape(1,28,28,3)"
      ],
      "execution_count": 32,
      "outputs": []
    },
    {
      "cell_type": "code",
      "metadata": {
        "id": "lrPPoHmIIlL5"
      },
      "source": [
        "# Now build the neural network \n",
        "\n",
        "1. model architecture\n",
        "2. compile\n",
        "3. fit or train the model"
      ],
      "execution_count": null,
      "outputs": []
    },
    {
      "cell_type": "code",
      "metadata": {
        "id": "RycDQ_lTIlKB"
      },
      "source": [
        "# 1. Model architecture\n",
        "\n",
        "model = Sequential()\n",
        "\n",
        "\n",
        "# conv layer 1\n",
        "model.add(Conv2D(10 , 3 , activation='relu' , kernel_initializer='he_normal' , input_shape = (28,28,1)))     \n",
        "model.add(MaxPool2D())     #pool\n",
        "\n",
        "# conv layer 2\n",
        "model.add(Conv2D(20 , 3 , activation='relu' , kernel_initializer='he_uniform'))\n",
        "model.add(MaxPool2D())\n",
        "\n",
        "# conv layer 3\n",
        "model.add(Conv2D(40 , 3 , activation='relu' , kernel_initializer='he_uniform'))\n",
        "model.add(MaxPool2D())\n",
        "\n",
        "# flatten\n",
        "model.add(Flatten())\n",
        "\n",
        "# hidden layer 1\n",
        "model.add(Dense(128, activation='sigmoid'))\n",
        "\n",
        "# hidden layer 2\n",
        "model.add(Dense(64, activation='relu'))\n",
        "\n",
        "# hidden layer 3\n",
        "model.add(Dense(32, activation='sigmoid'))\n",
        "\n",
        "#output\n",
        "model.add(Dense(10, activation='softmax'))   # we take 10 neurons bcos we have 10 classes of fashion\n",
        "\n",
        "\n",
        "\n",
        "# Relu ---> If our neural network will give the output so we get +ve values as well as -ve values so this relu func will take +ve values as +ve and (0 , -ve) values will give as 0 value\n",
        "# output will give the probability with 10 classes\n"
      ],
      "execution_count": 61,
      "outputs": []
    },
    {
      "cell_type": "code",
      "metadata": {
        "colab": {
          "base_uri": "https://localhost:8080/"
        },
        "id": "fI6JBa-YIlIS",
        "outputId": "24e2c345-0521-46fc-9b1b-464b155245fc"
      },
      "source": [
        "# our model is created now so now we will see model summary for confirmation\n",
        "\n",
        "model.summary()"
      ],
      "execution_count": 37,
      "outputs": [
        {
          "output_type": "stream",
          "text": [
            "Model: \"sequential_6\"\n",
            "_________________________________________________________________\n",
            "Layer (type)                 Output Shape              Param #   \n",
            "=================================================================\n",
            "conv2d_16 (Conv2D)           (None, 26, 26, 10)        280       \n",
            "_________________________________________________________________\n",
            "max_pooling2d_15 (MaxPooling (None, 13, 13, 10)        0         \n",
            "_________________________________________________________________\n",
            "conv2d_17 (Conv2D)           (None, 11, 11, 20)        1820      \n",
            "_________________________________________________________________\n",
            "max_pooling2d_16 (MaxPooling (None, 5, 5, 20)          0         \n",
            "_________________________________________________________________\n",
            "conv2d_18 (Conv2D)           (None, 3, 3, 40)          7240      \n",
            "_________________________________________________________________\n",
            "max_pooling2d_17 (MaxPooling (None, 1, 1, 40)          0         \n",
            "_________________________________________________________________\n",
            "flatten_5 (Flatten)          (None, 40)                0         \n",
            "_________________________________________________________________\n",
            "dense_20 (Dense)             (None, 128)               5248      \n",
            "_________________________________________________________________\n",
            "dense_21 (Dense)             (None, 64)                8256      \n",
            "_________________________________________________________________\n",
            "dense_22 (Dense)             (None, 32)                2080      \n",
            "_________________________________________________________________\n",
            "dense_23 (Dense)             (None, 10)                330       \n",
            "=================================================================\n",
            "Total params: 25,254\n",
            "Trainable params: 25,254\n",
            "Non-trainable params: 0\n",
            "_________________________________________________________________\n"
          ],
          "name": "stdout"
        }
      ]
    },
    {
      "cell_type": "code",
      "metadata": {
        "id": "-t3FqtE7IlET"
      },
      "source": [
        "# 2.compile\n",
        "\n",
        "model.compile(optimizer='adam' , loss = 'sparse_categorical_crossentropy' , metrics = ['accuracy'])\n",
        "\n",
        "\n",
        "# sparse_categorical_crossentropy --->>becos we are going to perform classification problems(10 class)\n",
        "# binary_crossentropy -->> binary class problems"
      ],
      "execution_count": 62,
      "outputs": []
    },
    {
      "cell_type": "code",
      "metadata": {
        "colab": {
          "base_uri": "https://localhost:8080/"
        },
        "id": "adPNydIpIlBF",
        "outputId": "ea031d9c-bf48-4800-8399-0143d6a0add7"
      },
      "source": [
        "# 3. fit or train the model\n",
        "\n",
        "model.fit(X_train , y_train , epochs= 5 , batch_size=32)\n",
        "\n",
        "# epochs means iteraions\n",
        "# epochs = 1 -->> means lets suppose we have 60000 images so 1 epochs menas 60000 images will come to our neural network n will train on dataset and \n",
        "# if we want that our neural network will be good learn then we will increase the epochs values -->> suppose epochs values we wil take 5 then complete dataset will \n",
        "# come on neural networks and then neural network will train on complete dataset and the again will come whole dataset n will trained \n",
        "# so iteration will be done for 5 times so that our accuracy will be be better bcos of increasing the epochs"
      ],
      "execution_count": 64,
      "outputs": [
        {
          "output_type": "stream",
          "text": [
            "Epoch 1/5\n",
            "1875/1875 [==============================] - 9s 5ms/step - loss: 0.8063 - accuracy: 0.7150\n",
            "Epoch 2/5\n",
            "1875/1875 [==============================] - 9s 5ms/step - loss: 0.5280 - accuracy: 0.8063\n",
            "Epoch 3/5\n",
            "1875/1875 [==============================] - 9s 5ms/step - loss: 0.4674 - accuracy: 0.8285\n",
            "Epoch 4/5\n",
            "1875/1875 [==============================] - 9s 5ms/step - loss: 0.4289 - accuracy: 0.8425\n",
            "Epoch 5/5\n",
            "1875/1875 [==============================] - 9s 5ms/step - loss: 0.4017 - accuracy: 0.8530\n"
          ],
          "name": "stdout"
        },
        {
          "output_type": "execute_result",
          "data": {
            "text/plain": [
              "<keras.callbacks.History at 0x7f78b6fd7a50>"
            ]
          },
          "metadata": {},
          "execution_count": 64
        }
      ]
    },
    {
      "cell_type": "code",
      "metadata": {
        "colab": {
          "base_uri": "https://localhost:8080/"
        },
        "id": "ZGpWABm7Ik96",
        "outputId": "80128f46-f8cd-4d44-fd57-200e3f2233ea"
      },
      "source": [
        "# test and evaluate the model\n",
        "\n",
        "model.evaluate(X_test , y_test)"
      ],
      "execution_count": 65,
      "outputs": [
        {
          "output_type": "stream",
          "text": [
            "313/313 [==============================] - 1s 4ms/step - loss: 0.4069 - accuracy: 0.8531\n"
          ],
          "name": "stdout"
        },
        {
          "output_type": "execute_result",
          "data": {
            "text/plain": [
              "[0.4068513810634613, 0.8531000018119812]"
            ]
          },
          "metadata": {},
          "execution_count": 65
        }
      ]
    },
    {
      "cell_type": "code",
      "metadata": {
        "id": "yOK2ST3RIk53"
      },
      "source": [
        "# In above output -->>\n",
        "# accuracy of training 85% and testing acc 85%\n",
        "# both accuracy are close to each other so we can say that our model is not overfitting and we can deploy it now."
      ],
      "execution_count": null,
      "outputs": []
    },
    {
      "cell_type": "code",
      "metadata": {
        "id": "rCO4qXRMIk2e"
      },
      "source": [
        "#  Predict the data\n",
        "\n",
        "y_pred = model.predict(X_test)"
      ],
      "execution_count": 66,
      "outputs": []
    },
    {
      "cell_type": "code",
      "metadata": {
        "colab": {
          "base_uri": "https://localhost:8080/"
        },
        "id": "FESbgxBsIk0F",
        "outputId": "8d37efe0-63be-4488-a79f-7a4166309ade"
      },
      "source": [
        "y_pred[0].round(2)\n",
        "\n",
        "\n",
        "# output -->> we got the output value in probability form of 10 classes\n",
        "\n"
      ],
      "execution_count": 67,
      "outputs": [
        {
          "output_type": "execute_result",
          "data": {
            "text/plain": [
              "array([0.  , 0.  , 0.  , 0.  , 0.  , 0.  , 0.  , 0.04, 0.  , 0.96],\n",
              "      dtype=float32)"
            ]
          },
          "metadata": {},
          "execution_count": 67
        }
      ]
    },
    {
      "cell_type": "code",
      "metadata": {
        "colab": {
          "base_uri": "https://localhost:8080/",
          "height": 35
        },
        "id": "oxnsMcSwIkxb",
        "outputId": "a675a317-3697-41eb-cc01-797c950e8183"
      },
      "source": [
        "# 0.99 -- >>for last class or last index our model predict 99 % probability\n",
        "\n",
        "import numpy as np\n",
        "classes[np.argmax(y_pred[0].round(2))]\n",
        "\n",
        "\n",
        "# np.argmax() -->> it will tell us on which index we have max prob value and it will give us that index\n",
        "# As we can see that we got 9 (Ankle Boot) in output so it is clear that we hav max prob value at 9th index i.e in above we got 0.99 in last 9th index.\n",
        "\n",
        "# in above class we can see that on 9th index we have Ankle Boot"
      ],
      "execution_count": 68,
      "outputs": [
        {
          "output_type": "execute_result",
          "data": {
            "application/vnd.google.colaboratory.intrinsic+json": {
              "type": "string"
            },
            "text/plain": [
              "'Ankle boot'"
            ]
          },
          "metadata": {},
          "execution_count": 68
        }
      ]
    },
    {
      "cell_type": "code",
      "metadata": {
        "colab": {
          "base_uri": "https://localhost:8080/"
        },
        "id": "CIqGZRS8Ikrr",
        "outputId": "6d889881-daab-4c81-c7dd-3ffd71e5ee9b"
      },
      "source": [
        "# Lets check in actual what is the value of 1st image\n",
        "\n",
        "y_test[0]\n",
        "\n",
        "\n",
        "#  Here also we got value 9th index and out model also predict above(np.argmax(y_pred[0].round(2))) same 9th index so that means our prediction is working good."
      ],
      "execution_count": 69,
      "outputs": [
        {
          "output_type": "execute_result",
          "data": {
            "text/plain": [
              "9"
            ]
          },
          "metadata": {},
          "execution_count": 69
        }
      ]
    },
    {
      "cell_type": "code",
      "metadata": {
        "colab": {
          "base_uri": "https://localhost:8080/",
          "height": 932
        },
        "id": "5f5GccmlIkfN",
        "outputId": "d2017d2b-914f-4d2e-ee43-477ccb072a21"
      },
      "source": [
        "#  Lets check the image on 9th index and test also --->>\n",
        "\n",
        "plt.figure(figsize=(16,16))\n",
        "for i in range(25):\n",
        "  plt.subplot(5,5,i+1)\n",
        "  # plt.imshow(X_test[i])\n",
        "  plt.imshow((np.squeeze(X_test[i])))\n",
        "  plt.axis('off')\n",
        "  plt.title('Actual = {} \\n Predict = {}'.format(classes[y_test[i]] , classes[np.argmax(y_pred[i])]))"
      ],
      "execution_count": 70,
      "outputs": [
        {
          "output_type": "display_data",
          "data": {
            "image/png": "[encoded data removed]",
            "text/plain": [
              "<Figure size 1152x1152 with 25 Axes>"
            ]
          },
          "metadata": {
            "needs_background": "light"
          }
        }
      ]
    },
    {
      "cell_type": "markdown",
      "metadata": {
        "id": "XinO0P_j1d6v"
      },
      "source": [
        "Below single image prediction "
      ]
    },
    {
      "cell_type": "code",
      "metadata": {
        "colab": {
          "base_uri": "https://localhost:8080/",
          "height": 35
        },
        "id": "n7pxGj0e060y",
        "outputId": "c80f4b41-2eb9-4120-acff-4d6976fc193a"
      },
      "source": [
        "image_row = 101\n",
        "\n",
        "classes[np.argmax(y_pred[image_row])]"
      ],
      "execution_count": 71,
      "outputs": [
        {
          "output_type": "execute_result",
          "data": {
            "application/vnd.google.colaboratory.intrinsic+json": {
              "type": "string"
            },
            "text/plain": [
              "'Shirt'"
            ]
          },
          "metadata": {},
          "execution_count": 71
        }
      ]
    },
    {
      "cell_type": "code",
      "metadata": {
        "colab": {
          "base_uri": "https://localhost:8080/",
          "height": 283
        },
        "id": "4YJBJbZI09cL",
        "outputId": "3fbba435-1497-4c23-af94-059fa36f9260"
      },
      "source": [
        "\n",
        "plt.imshow((np.squeeze(X_test[image_row])))\n",
        "classes[y_test[image_row]]\n"
      ],
      "execution_count": 72,
      "outputs": [
        {
          "output_type": "execute_result",
          "data": {
            "application/vnd.google.colaboratory.intrinsic+json": {
              "type": "string"
            },
            "text/plain": [
              "'Shirt'"
            ]
          },
          "metadata": {},
          "execution_count": 72
        },
        {
          "output_type": "display_data",
          "data": {
            "image/png": "[encoded data removed]",
            "text/plain": [
              "<Figure size 432x288 with 1 Axes>"
            ]
          },
          "metadata": {
            "needs_background": "light"
          }
        }
      ]
    },
    {
      "cell_type": "code",
      "metadata": {
        "colab": {
          "base_uri": "https://localhost:8080/"
        },
        "id": "cB2H4mELjq9T",
        "outputId": "b53ee9a2-1e02-48f2-db01-90dfbfeb105c"
      },
      "source": [
        "# Classification report\n",
        "\n",
        "from sklearn.metrics import classification_report\n",
        "\n",
        "cr = classification_report(y_test ,[np.argmax(i) for i in y_pred] , target_names = classes)\n",
        "print(cr)"
      ],
      "execution_count": 73,
      "outputs": [
        {
          "output_type": "stream",
          "text": [
            "              precision    recall  f1-score   support\n",
            "\n",
            " T-shirt/top       0.80      0.85      0.82      1000\n",
            "     Trouser       0.98      0.97      0.98      1000\n",
            "    Pullover       0.70      0.82      0.75      1000\n",
            "       Dress       0.88      0.85      0.87      1000\n",
            "        Coat       0.71      0.80      0.75      1000\n",
            "      Sandal       0.98      0.93      0.95      1000\n",
            "       Shirt       0.68      0.46      0.55      1000\n",
            "     Sneaker       0.90      0.94      0.92      1000\n",
            "         Bag       0.97      0.96      0.97      1000\n",
            "  Ankle boot       0.94      0.94      0.94      1000\n",
            "\n",
            "    accuracy                           0.85     10000\n",
            "   macro avg       0.85      0.85      0.85     10000\n",
            "weighted avg       0.85      0.85      0.85     10000\n",
            "\n"
          ],
          "name": "stdout"
        }
      ]
    },
    {
      "cell_type": "code",
      "metadata": {
        "id": "bUb9l8ONjrAZ"
      },
      "source": [
        "#  Save the model\n",
        "\n",
        "model.save('FMNIST_classifier.h5')"
      ],
      "execution_count": 74,
      "outputs": []
    },
    {
      "cell_type": "code",
      "metadata": {
        "id": "gME_9DQojrC1"
      },
      "source": [
        "#  Next step will be load the model\n",
        "\n",
        "load_model = tensorflow.keras.models.load_model('/content/FMNIST_classifier.h5')"
      ],
      "execution_count": 75,
      "outputs": []
    },
    {
      "cell_type": "code",
      "metadata": {
        "colab": {
          "base_uri": "https://localhost:8080/"
        },
        "id": "TFw_l6fxjrKH",
        "outputId": "21222c68-5964-47bc-fa00-5fc19b190545"
      },
      "source": [
        "load_model.predict(X_test)"
      ],
      "execution_count": 76,
      "outputs": [
        {
          "output_type": "execute_result",
          "data": {
            "text/plain": [
              "array([[1.1473361e-05, 4.9950395e-05, 8.9285631e-06, ..., 3.7629440e-02,\n",
              "        1.4616584e-04, 9.6076101e-01],\n",
              "       [1.9442391e-02, 1.9149337e-04, 9.3780547e-01, ..., 9.8311666e-06,\n",
              "        3.5019775e-03, 2.8795163e-05],\n",
              "       [4.6206154e-05, 9.9720156e-01, 1.0664438e-04, ..., 5.6060203e-06,\n",
              "        1.2912346e-05, 1.6832887e-04],\n",
              "       ...,\n",
              "       [9.3401421e-04, 2.4152030e-05, 3.1195953e-04, ..., 1.3224727e-04,\n",
              "        9.9737084e-01, 2.0249832e-05],\n",
              "       [2.6200249e-05, 9.9760735e-01, 4.6252782e-05, ..., 6.6082066e-06,\n",
              "        1.0625971e-05, 5.3768650e-05],\n",
              "       [1.2381233e-03, 1.2611416e-04, 1.1474046e-04, ..., 3.1905081e-02,\n",
              "        4.8921257e-01, 3.2356305e-03]], dtype=float32)"
            ]
          },
          "metadata": {},
          "execution_count": 76
        }
      ]
    },
    {
      "cell_type": "code",
      "metadata": {
        "id": "VVgW0jzcjrOK"
      },
      "source": [
        ""
      ],
      "execution_count": null,
      "outputs": []
    },
    {
      "cell_type": "code",
      "metadata": {
        "id": "E6t8YtrxjrU4"
      },
      "source": [
        ""
      ],
      "execution_count": null,
      "outputs": []
    },
    {
      "cell_type": "code",
      "metadata": {
        "id": "2cPiFiRTjrYG"
      },
      "source": [
        ""
      ],
      "execution_count": null,
      "outputs": []
    },
    {
      "cell_type": "code",
      "metadata": {
        "id": "SU0gkpmEjrcY"
      },
      "source": [
        ""
      ],
      "execution_count": null,
      "outputs": []
    },
    {
      "cell_type": "code",
      "metadata": {
        "id": "DcdXF9V1jre-"
      },
      "source": [
        ""
      ],
      "execution_count": null,
      "outputs": []
    },
    {
      "cell_type": "code",
      "metadata": {
        "id": "rpA7_52-jriv"
      },
      "source": [
        ""
      ],
      "execution_count": null,
      "outputs": []
    },
    {
      "cell_type": "code",
      "metadata": {
        "id": "pV01NYv7jrlw"
      },
      "source": [
        ""
      ],
      "execution_count": null,
      "outputs": []
    }
  ]
}
